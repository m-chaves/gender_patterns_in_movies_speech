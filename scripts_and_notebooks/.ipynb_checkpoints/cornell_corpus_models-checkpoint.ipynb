{
 "cells": [
  {
   "cell_type": "markdown",
   "id": "a4f7152a",
   "metadata": {},
   "source": [
    "# Cornell corpus\n",
    "\n",
    "In this notebook includes:\n",
    "\n",
    "- Training some text classification models using leave-one-movie-out cross-validation\n",
    "- Gridsearch\n",
    "\n",
    "Two classifications tasks are considered: \n",
    "(1) Classifying gender at dialogue level, that is, each sample corresponds to a dialogue.\n",
    "(2) Classifying gender at character level, that is, each sample corresponds to all dialogues of a character."
   ]
  },
  {
   "cell_type": "code",
   "execution_count": 32,
   "id": "original-technology",
   "metadata": {},
   "outputs": [],
   "source": [
    "import pandas as pd\n",
    "import numpy as np\n",
    "from sklearn.feature_extraction.text import CountVectorizer, TfidfVectorizer\n",
    "from sklearn.model_selection import cross_validate, LeaveOneGroupOut,GridSearchCV, KFold, cross_val_predict\n",
    "from sklearn.metrics import confusion_matrix, ConfusionMatrixDisplay\n",
    "from sklearn.linear_model import LogisticRegression\n",
    "from sklearn.naive_bayes import ComplementNB\n",
    "from sklearn.pipeline import make_pipeline\n",
    "from sklearn import preprocessing\n",
    "import sklearn\n",
    "import pickle\n",
    "import matplotlib.pyplot as plt\n",
    "import tqdm"
   ]
  },
  {
   "cell_type": "code",
   "execution_count": 2,
   "id": "material-convention",
   "metadata": {},
   "outputs": [
    {
     "name": "stdout",
     "output_type": "stream",
     "text": [
      "/openpose/repositories/text-models\n"
     ]
    }
   ],
   "source": [
    "# Go to main directory\n",
    "%cd .."
   ]
  },
  {
   "cell_type": "markdown",
   "id": "f8532fae",
   "metadata": {},
   "source": [
    "# Load Cornell\n",
    "\n",
    "These versions include the preprocessing steps applied in Schofield, A., & Mehr, L. (2016). Gender-Distinguishing Features in Film Dialogue. Proceedings of the Fifth Workshop on Computational Linguistics for Literature, 32–39. https://doi.org/10.18653/v1/W16-0204. \n",
    "\n",
    "See ```cornell_corpus_preprocessing.ipynb``` for the code related to the preprocessing.\n",
    "\n",
    "One dataset is at dialogue level, and the other one, at character level."
   ]
  },
  {
   "cell_type": "code",
   "execution_count": 3,
   "id": "through-italy",
   "metadata": {},
   "outputs": [],
   "source": [
    "# Loading preprocessed cornell\n",
    "cornell_prepro = pd.read_pickle(\"datasets/cornell_corpus/cornell_prepro.pkl\")  \n",
    "cornell_prepro_characters = pd.read_pickle(\"datasets/cornell_corpus/cornell_prepro_characters.pkl\")  "
   ]
  },
  {
   "cell_type": "markdown",
   "id": "tired-title",
   "metadata": {},
   "source": [
    "# Bag of words and TF-IDF\n",
    "\n",
    "Using the parameter `vocabulary` from `CountVectorizer`, we can select the unigrams, bigrams and trigrams that we want to take into consideration. We identify the ones that appear at least 5 times and set them as our vocabulary. \n",
    "\n",
    "**1. Getting our vocabularies**"
   ]
  },
  {
   "cell_type": "code",
   "execution_count": 4,
   "id": "aa0d8fc3",
   "metadata": {},
   "outputs": [],
   "source": [
    "# Lower case\n",
    "cornell_prepro['text'] = cornell_prepro['text'].str.lower()\n",
    "cornell_prepro_characters['text'] = cornell_prepro_characters['text'].str.lower()"
   ]
  },
  {
   "cell_type": "code",
   "execution_count": 5,
   "id": "alpine-sculpture",
   "metadata": {},
   "outputs": [
    {
     "name": "stdout",
     "output_type": "stream",
     "text": [
      "unigrams that show up 5 or more times: 11234\n",
      "unigrams, bigrams and trigrams that show up 5 or more times: 65315\n"
     ]
    }
   ],
   "source": [
    "# Get all unigrams\n",
    "vectorizer = CountVectorizer(ngram_range = (1,1))\n",
    "n_grams = vectorizer.fit_transform(cornell_prepro['text'])\n",
    "# Identify unigrams that showed up 5 or more times\n",
    "freqs = zip(vectorizer.get_feature_names_out(), np.asarray(n_grams.sum(axis=0)).ravel())\n",
    "important_unigrams = [f[0] for f in freqs if f[1]>=5]\n",
    "print('unigrams that show up 5 or more times:', len(important_unigrams))\n",
    "\n",
    "\n",
    "# Get all unigrams, bigrams and trigrams\n",
    "vectorizer = CountVectorizer(ngram_range = (1,3))\n",
    "n_grams = vectorizer.fit_transform(cornell_prepro['text'])\n",
    "# Identify n-grams that showed up 5 or more times\n",
    "freqs = zip(vectorizer.get_feature_names_out(), np.asarray(n_grams.sum(axis=0)).ravel())\n",
    "important_unibitrigrams = [f[0] for f in freqs if f[1]>=5]\n",
    "print('unigrams, bigrams and trigrams that show up 5 or more times:', len(important_unibitrigrams))"
   ]
  },
  {
   "cell_type": "markdown",
   "id": "seventh-allergy",
   "metadata": {},
   "source": [
    "**2. Bag of words matrices (raw frequency)**\n",
    "\n",
    "Matrix of token counts"
   ]
  },
  {
   "cell_type": "code",
   "execution_count": 6,
   "id": "elect-china",
   "metadata": {},
   "outputs": [],
   "source": [
    "# Dialogue level\n",
    "\n",
    "# For unigrams\n",
    "BOW_model_unigrams = CountVectorizer(ngram_range = (1,1), vocabulary = important_unigrams)\n",
    "BOW_unigrams = BOW_model_unigrams.fit_transform(cornell_prepro['text'])\n",
    "\n",
    "# For unigrams, bigrams, and trigrams\n",
    "BOW_model_unibitrigrams = CountVectorizer(ngram_range = (1,3), vocabulary = important_unibitrigrams)\n",
    "BOW_unibitrigrams = BOW_model_unibitrigrams.fit_transform(cornell_prepro['text'])"
   ]
  },
  {
   "cell_type": "code",
   "execution_count": 7,
   "id": "d67d8ced",
   "metadata": {},
   "outputs": [],
   "source": [
    "# Character level\n",
    "\n",
    "# For unigrams\n",
    "BOW_model_unigrams = CountVectorizer(ngram_range = (1,1), vocabulary = important_unigrams)\n",
    "BOW_unigrams_characters = BOW_model_unigrams.fit_transform(cornell_prepro_characters['text'])\n",
    "\n",
    "# For unigrams, bigrams, and trigrams\n",
    "BOW_model_unibitrigrams = CountVectorizer(ngram_range = (1,3), vocabulary = important_unibitrigrams)\n",
    "BOW_unibitrigrams_characters = BOW_model_unibitrigrams.fit_transform(cornell_prepro_characters['text'])"
   ]
  },
  {
   "cell_type": "markdown",
   "id": "sophisticated-trick",
   "metadata": {},
   "source": [
    "**3 TF-IDF matrices**"
   ]
  },
  {
   "cell_type": "code",
   "execution_count": 8,
   "id": "solid-galaxy",
   "metadata": {},
   "outputs": [],
   "source": [
    "# Dialogue level\n",
    "\n",
    "# For unigrams\n",
    "TFIDF_model_unigrams = TfidfVectorizer(ngram_range = (1,1), vocabulary = important_unigrams)\n",
    "TFIDF_unigrams = TFIDF_model_unigrams.fit_transform(cornell_prepro['text'])\n",
    "\n",
    "# For unigrams, bigrams, and trigrams\n",
    "TFIDF_model_unibitrigrams = TfidfVectorizer(ngram_range = (1,3), vocabulary = important_unibitrigrams)\n",
    "TFIDF_unibitrigrams = TFIDF_model_unibitrigrams.fit_transform(cornell_prepro['text'])"
   ]
  },
  {
   "cell_type": "code",
   "execution_count": 9,
   "id": "db853cc8",
   "metadata": {},
   "outputs": [],
   "source": [
    "# Character level\n",
    "\n",
    "# For unigrams\n",
    "TFIDF_model_unigrams = TfidfVectorizer(ngram_range = (1,1), vocabulary = important_unigrams)\n",
    "TFIDF_unigrams_characters = TFIDF_model_unigrams.fit_transform(cornell_prepro_characters['text'])\n",
    "\n",
    "# For unigrams, bigrams, and trigrams\n",
    "TFIDF_model_unibitrigrams = TfidfVectorizer(ngram_range = (1,3), vocabulary = important_unibitrigrams)\n",
    "TFIDF_unibitrigrams_characters = TFIDF_model_unibitrigrams.fit_transform(cornell_prepro_characters['text'])"
   ]
  },
  {
   "cell_type": "markdown",
   "id": "analyzed-suffering",
   "metadata": {},
   "source": [
    "# Models (at dialogue level)\n",
    "\n",
    "We consider 4 types of inputs followed by a classification model (logistic regression or naive bayes). \n",
    "\n",
    "- unigrams + TF-IDF + classification model\n",
    "- unigrams, bigrams and trigrams + TF-IDF + classification model\n",
    "- unigrams + Bag of words + classification model\n",
    "- unigrams, bigrams and trigrams + Bag of words + classification model\n",
    "\n",
    "We exclude the n-grams that appear less than 5 times. \n",
    "We use gridsearch and leave-one-movie-out cross-validation.\n",
    "\n",
    "Nevertheless, as you can observe in the following results **the accuracies are low (around 56%-58%)**, specially considering that 54% of the dialogues correspond to one category. "
   ]
  },
  {
   "cell_type": "code",
   "execution_count": 49,
   "id": "north-german",
   "metadata": {},
   "outputs": [
    {
     "data": {
      "text/plain": [
       "array([1, 1, 1, 1, 1, 1, 1, 1, 1, 1, 1, 1, 1, 1, 1, 1, 1, 1, 1, 1, 1, 1,\n",
       "       1, 1, 1, 1, 1, 1, 1, 1, 1, 1, 1, 1, 1, 1, 1, 1, 1, 1, 1, 1, 1, 1,\n",
       "       1, 1, 1, 1, 1, 1, 1, 1, 1, 1, 1, 1, 1, 1, 1, 1, 1, 1, 1, 1, 1, 1,\n",
       "       1, 1, 1, 1, 1, 1, 1, 1, 1, 1, 1, 1, 1, 1, 1, 1, 1, 1, 1, 1, 1, 1,\n",
       "       1, 1, 1, 1, 1, 1, 1, 1, 1, 1, 0, 0, 0, 0, 0, 0, 0, 0, 0, 0, 0, 0,\n",
       "       0, 0, 0, 0, 0, 0, 0, 0, 0, 0, 0, 0, 0, 0, 0, 0, 0, 0, 0, 0, 0, 0,\n",
       "       0, 0, 0, 1, 1, 1, 1, 1, 1, 1, 1, 1, 1, 1, 1, 1, 1, 1, 1, 1, 1, 1,\n",
       "       1, 1, 1, 1, 1, 1, 1, 1, 1, 1, 1, 1, 1, 1, 1, 1, 1, 1, 1, 1, 1, 1,\n",
       "       1, 1, 1, 1, 1, 1, 1, 1, 1, 1, 1, 1, 1, 1, 1, 1, 1, 1, 1, 1, 1, 1,\n",
       "       1, 1])"
      ]
     },
     "execution_count": 49,
     "metadata": {},
     "output_type": "execute_result"
    }
   ],
   "source": [
    "# target variable\n",
    "target = (np.array(cornell_prepro['gender']) == 'F').astype(int)\n",
    "target[0:200]"
   ]
  },
  {
   "cell_type": "markdown",
   "id": "c03086ba",
   "metadata": {},
   "source": [
    "## 1. Logistic regression based models\n",
    "\n",
    "### Models using leave-one-movie-out"
   ]
  },
  {
   "cell_type": "code",
   "execution_count": 50,
   "id": "76754ca0",
   "metadata": {},
   "outputs": [
    {
     "name": "stdout",
     "output_type": "stream",
     "text": [
      "Model using unigrams + TF-IDF + logistic regression\n",
      "Average test accuracy 0.5626998246240992\n",
      "Average test F1 score 0.455050454436849\n"
     ]
    }
   ],
   "source": [
    "logistic_reg = make_pipeline(preprocessing.MaxAbsScaler(), LogisticRegression(random_state = 140, max_iter = 500))\n",
    "cv_logistic_unigrams_TFIDF = cross_validate(logistic_reg, X = TFIDF_unigrams, y = target, groups = np.array(cornell_prepro['movieID']), cv = LeaveOneGroupOut(), scoring = ['accuracy','f1'])\n",
    "\n",
    "print('Model using unigrams + TF-IDF + logistic regression')\n",
    "print('Average test accuracy', np.mean(cv_logistic_unigrams_TFIDF['test_accuracy']))\n",
    "print('Average test F1 score', np.mean(cv_logistic_unigrams_TFIDF['test_f1']))\n",
    "\n",
    "pickle.dump(cv_logistic_unigrams_TFIDF, open( \"datasets/cornell_corpus/results/cv_logistic_unigrams_TFIDF.pickle\", \"wb\" ))"
   ]
  },
  {
   "cell_type": "code",
   "execution_count": 51,
   "id": "e3a84d38",
   "metadata": {},
   "outputs": [
    {
     "name": "stdout",
     "output_type": "stream",
     "text": [
      "Model using unigrams,bigramas,trigrams + TF-IDF + logistic regression\n",
      "Average test accuracy 0.5531220180825328\n",
      "Average test F1 score 0.4672371315273977\n"
     ]
    }
   ],
   "source": [
    "logistic_reg = make_pipeline(preprocessing.MaxAbsScaler(), LogisticRegression(random_state = 140, max_iter = 500))\n",
    "cv_logistic_unibitrigrams_TFIDF = cross_validate(logistic_reg, X = TFIDF_unibitrigrams, y = target, groups = np.array(cornell_prepro['movieID']), cv = LeaveOneGroupOut(), scoring = ['accuracy','f1'])\n",
    "\n",
    "print('Model using unigrams,bigramas,trigrams + TF-IDF + logistic regression')\n",
    "print('Average test accuracy', np.mean(cv_logistic_unibitrigrams_TFIDF['test_accuracy']))\n",
    "print('Average test F1 score', np.mean(cv_logistic_unibitrigrams_TFIDF['test_f1']))\n",
    "\n",
    "pickle.dump(cv_logistic_unibitrigrams_TFIDF, open( \"datasets/cornell_corpus/results/cv_logistic_unibitrigrams_TFIDF.pickle\", \"wb\" ))"
   ]
  },
  {
   "cell_type": "code",
   "execution_count": 52,
   "id": "e89f3c54",
   "metadata": {},
   "outputs": [
    {
     "name": "stdout",
     "output_type": "stream",
     "text": [
      "Model using unigrams + TF-IDF + logistic regression\n",
      "Average test accuracy 0.5588971690395057\n",
      "Average test F1 score 0.4338183923315368\n"
     ]
    }
   ],
   "source": [
    "logistic_reg = make_pipeline(preprocessing.MaxAbsScaler(), LogisticRegression(random_state = 140, max_iter = 500))\n",
    "cv_logistic_unigrams_BOW = cross_validate(logistic_reg, X = BOW_unigrams, y = target, groups = np.array(cornell_prepro['movieID']), cv = LeaveOneGroupOut(), scoring = ['accuracy','f1'])\n",
    "\n",
    "print('Model using unigrams + TF-IDF + logistic regression')\n",
    "print('Average test accuracy', np.mean(cv_logistic_unigrams_BOW['test_accuracy']))\n",
    "print('Average test F1 score', np.mean(cv_logistic_unigrams_BOW['test_f1']))\n",
    "\n",
    "pickle.dump(cv_logistic_unigrams_BOW, open( \"datasets/cornell_corpus/results/cv_logistic_unigrams_BOW.pickle\", \"wb\" ))"
   ]
  },
  {
   "cell_type": "code",
   "execution_count": 53,
   "id": "9bba2949",
   "metadata": {},
   "outputs": [
    {
     "name": "stdout",
     "output_type": "stream",
     "text": [
      "Model using unigrams,bigramas,trigrams + TF-IDF + logistic regression\n",
      "Average test accuracy 0.5531845761093305\n",
      "Average test F1 score 0.4646189900757884\n"
     ]
    }
   ],
   "source": [
    "logistic_reg = make_pipeline(preprocessing.MaxAbsScaler(), LogisticRegression(random_state = 140, max_iter = 500))\n",
    "cv_logistic_unibitrigrams_BOW = cross_validate(logistic_reg, X = BOW_unibitrigrams, y = target, groups = np.array(cornell_prepro['movieID']), cv = LeaveOneGroupOut(), scoring = ['accuracy','f1'])\n",
    "\n",
    "print('Model using unigrams,bigramas,trigrams + TF-IDF + logistic regression')\n",
    "print('Average test accuracy', np.mean(cv_logistic_unibitrigrams_BOW['test_accuracy']))\n",
    "print('Average test F1 score', np.mean(cv_logistic_unibitrigrams_BOW['test_f1']))\n",
    "\n",
    "pickle.dump(cv_logistic_unibitrigrams_BOW, open( \"datasets/cornell_corpus/results/cv_logistic_unibitrigrams_BOW.pickle\", \"wb\" ))"
   ]
  },
  {
   "cell_type": "markdown",
   "id": "46b0c41b",
   "metadata": {},
   "source": [
    "### GridSearch on logistic models (this subsection is work in progress)\n",
    "\n",
    "Using 3-fold cv\n",
    "\n",
    "Here we use the results obtained from ```gridsearch_logistic.py```. \n",
    "\n",
    "Notice that if it is need to run it again, you must use ```python scripts_and_notebooks/gridsearch_logistic.py```"
   ]
  },
  {
   "cell_type": "code",
   "execution_count": 3,
   "id": "218f6f0e",
   "metadata": {},
   "outputs": [
    {
     "name": "stdout",
     "output_type": "stream",
     "text": [
      "Using TFIDF on unigrams\n",
      "Best hyperameters {'C': 0.1, 'penalty': 'l2', 'solver': 'liblinear'}\n",
      "Best test accuracy 0.580749565195582\n",
      "Using TFIDF on unigrams, bigrams and trigrams\n",
      "Best hyperameters {'C': 0.1, 'penalty': 'l2', 'solver': 'liblinear'}\n",
      "Best test accuracy 0.5819871096270721\n",
      "Using BOW on unigrams\n",
      "Best hyperameters {'C': 0.1, 'penalty': 'l2', 'solver': 'newton-cg'}\n",
      "Best test accuracy 0.5763220385848146\n",
      "Using BOW on unigrams, bigrams and trigrams\n",
      "Best hyperameters {'C': 0.1, 'penalty': 'l2', 'solver': 'newton-cg'}\n",
      "Best test accuracy 0.5763220385848146\n"
     ]
    }
   ],
   "source": [
    "print('Using TFIDF on unigrams')\n",
    "logisticGridsearch_TFIDF_unigrams = pickle.load(open(\"datasets/cornell_corpus/results/logisticGridsearch_TFIDF_unigrams.pickle\", \"rb\"))\n",
    "print('Best hyperameters', logisticGridsearch_TFIDF_unigrams.best_params_)\n",
    "print('Best test accuracy', logisticGridsearch_TFIDF_unigrams.best_score_)\n",
    "\n",
    "print('Using TFIDF on unigrams, bigrams and trigrams')\n",
    "logisticGridsearch_TFIDF_unibitrigrams = pickle.load(open('datasets/cornell_corpus/results/logisticGridsearch_TFIDF_unibitrigrams.pickle','rb'))\n",
    "print('Best hyperameters', logisticGridsearch_TFIDF_unibitrigrams.best_params_)\n",
    "print('Best test accuracy', logisticGridsearch_TFIDF_unibitrigrams.best_score_)\n",
    "\n",
    "print('Using BOW on unigrams')\n",
    "logisticGridsearch_BOW_unigrams = pickle.load(open( \"datasets/cornell_corpus/results/logisticGridsearch_BOW_unigrams.pickle\", \"rb\" ))\n",
    "print('Best hyperameters', logisticGridsearch_BOW_unigrams.best_params_)\n",
    "print('Best test accuracy', logisticGridsearch_BOW_unigrams.best_score_)\n",
    "\n",
    "print('Using BOW on unigrams, bigrams and trigrams')\n",
    "logisticGridsearch_BOW_unibitrigrams = pickle.load(open( \"datasets/cornell_corpus/results/logisticGridsearch_BOW_unigrams.pickle\", \"rb\" ))\n",
    "print('Best hyperameters', logisticGridsearch_BOW_unibitrigrams.best_params_)\n",
    "print('Best test accuracy', logisticGridsearch_BOW_unibitrigrams.best_score_)\n"
   ]
  },
  {
   "cell_type": "markdown",
   "id": "29653c7b",
   "metadata": {},
   "source": [
    "## 2. Naive bayes based models\n",
    "\n",
    "We use Complement Naive Bayes since it's the naive bayes approach that has shown better results in text classification. [Complement Naives info here](https://scikit-learn.org/stable/modules/naive_bayes.html#complement-naive-bayes)\n",
    "\n",
    "### Models using leave-one-movie-out"
   ]
  },
  {
   "cell_type": "code",
   "execution_count": 16,
   "id": "6b974be8",
   "metadata": {},
   "outputs": [
    {
     "name": "stdout",
     "output_type": "stream",
     "text": [
      "Model using unigrams + TF-IDF + complement naives bayes\n",
      "Average test accuracy 0.5601797113443308\n",
      "Average test F1 score 0.528988813140516\n"
     ]
    }
   ],
   "source": [
    "CNB = ComplementNB()\n",
    "cv_CNB_unigrams_TFIDF = cross_validate(CNB, X = TFIDF_unigrams, y = target, groups = np.array(cornell_prepro['movieID']), cv = LeaveOneGroupOut(), scoring = ['accuracy','f1'])\n",
    "\n",
    "print('Model using unigrams + TF-IDF + complement naives bayes')\n",
    "print('Average test accuracy', np.mean(cv_CNB_unigrams_TFIDF['test_accuracy']))\n",
    "print('Average test F1 score', np.mean(cv_CNB_unigrams_TFIDF['test_f1']))\n",
    "\n",
    "pickle.dump(cv_CNB_unigrams_TFIDF, open( \"datasets/cornell_corpus/results/cv_CNB_unigrams_TFIDF.pickle\", \"wb\" ))"
   ]
  },
  {
   "cell_type": "code",
   "execution_count": 17,
   "id": "61687fd2",
   "metadata": {},
   "outputs": [
    {
     "name": "stdout",
     "output_type": "stream",
     "text": [
      "Model using unigrams,bigramas,trigrams + TF-IDF + complement naives bayes\n",
      "Average test accuracy 0.5652449465365281\n",
      "Average test F1 score 0.5163482278849627\n"
     ]
    }
   ],
   "source": [
    "CNB = ComplementNB()\n",
    "cv_CNB_unibitrigrams_TFIDF = cross_validate(CNB, X = TFIDF_unibitrigrams, y = target, groups = np.array(cornell_prepro['movieID']), cv = LeaveOneGroupOut(), scoring = ['accuracy','f1'])\n",
    "\n",
    "print('Model using unigrams,bigramas,trigrams + TF-IDF + complement naives bayes')\n",
    "print('Average test accuracy', np.mean(cv_CNB_unibitrigrams_TFIDF['test_accuracy']))\n",
    "print('Average test F1 score', np.mean(cv_CNB_unibitrigrams_TFIDF['test_f1']))\n",
    "\n",
    "pickle.dump(cv_CNB_unibitrigrams_TFIDF, open( \"datasets/cornell_corpus/results/cv_CNB_unibitrigrams_TFIDF.pickle\", \"wb\" ))"
   ]
  },
  {
   "cell_type": "code",
   "execution_count": 18,
   "id": "789272e0",
   "metadata": {},
   "outputs": [
    {
     "name": "stdout",
     "output_type": "stream",
     "text": [
      "Model using unigrams + BOW + complement naives bayes\n",
      "Average test accuracy 0.5628133624236418\n",
      "Average test F1 score 0.5388650013254246\n"
     ]
    }
   ],
   "source": [
    "CNB = ComplementNB()\n",
    "cv_CNB_unigrams_BOW = cross_validate(CNB, X = BOW_unigrams, y = target, groups = np.array(cornell_prepro['movieID']), cv = LeaveOneGroupOut(), scoring = ['accuracy','f1'])\n",
    "\n",
    "print('Model using unigrams + BOW + complement naives bayes')\n",
    "print('Average test accuracy', np.mean(cv_CNB_unigrams_BOW['test_accuracy']))\n",
    "print('Average test F1 score', np.mean(cv_CNB_unigrams_BOW['test_f1']))\n",
    "\n",
    "pickle.dump(cv_CNB_unigrams_BOW, open( \"datasets/cornell_corpus/results/cv_CNB_unigrams_BOW.pickle\", \"wb\" ))"
   ]
  },
  {
   "cell_type": "code",
   "execution_count": 19,
   "id": "b20d226f",
   "metadata": {},
   "outputs": [
    {
     "name": "stdout",
     "output_type": "stream",
     "text": [
      "Model using unigrams,bigramas,trigrams + BOW + complement naives bayes\n",
      "Average test accuracy 0.5657125346880308\n",
      "Average test F1 score 0.5224756769872148\n"
     ]
    }
   ],
   "source": [
    "CNB = ComplementNB()\n",
    "cv_CNB_unibitrigrams_BOW = cross_validate(CNB, X = BOW_unibitrigrams, y = target, groups = np.array(cornell_prepro['movieID']), cv = LeaveOneGroupOut(), scoring = ['accuracy','f1'])\n",
    "\n",
    "print('Model using unigrams,bigramas,trigrams + BOW + complement naives bayes')\n",
    "print('Average test accuracy', np.mean(cv_CNB_unibitrigrams_BOW['test_accuracy']))\n",
    "print('Average test F1 score', np.mean(cv_CNB_unibitrigrams_BOW['test_f1']))\n",
    "\n",
    "pickle.dump(cv_CNB_unibitrigrams_BOW, open( \"datasets/cornell_corpus/results/cv_CNB_unibitrigrams_BOW.pickle\", \"wb\" ))"
   ]
  },
  {
   "cell_type": "markdown",
   "id": "228f116a",
   "metadata": {},
   "source": [
    "### Grid search on Naive Bayes models\n",
    "\n",
    "Using 3-fold"
   ]
  },
  {
   "cell_type": "code",
   "execution_count": 11,
   "id": "eb39e5a1",
   "metadata": {},
   "outputs": [],
   "source": [
    "hyperparameters = {'alpha': [0.001, 0.01, 0.1, 1, 10, 100, 1000],\n",
    "                  'norm': [True, False]}"
   ]
  },
  {
   "cell_type": "code",
   "execution_count": 12,
   "id": "8e74c1e8",
   "metadata": {},
   "outputs": [
    {
     "name": "stdout",
     "output_type": "stream",
     "text": [
      "Fitting 3 folds for each of 14 candidates, totalling 42 fits\n",
      "Best hyperameters {'alpha': 10, 'norm': True}\n",
      "Best test accuracy 0.5573824390487928\n"
     ]
    }
   ],
   "source": [
    "# Using TFIDF on unigrams\n",
    "CNB = ComplementNB()\n",
    "CNBGridsearch_TFIDF_unigrams = GridSearchCV(CNB, hyperparameters, cv = KFold(3), verbose = 1)\n",
    "CNBGridsearch_TFIDF_unigrams.fit(TFIDF_unigrams, target)\n",
    "\n",
    "print('Best hyperameters', CNBGridsearch_TFIDF_unigrams.best_params_)\n",
    "print('Best test accuracy', CNBGridsearch_TFIDF_unigrams.best_score_)\n",
    "\n",
    "#Save gridsearch results\n",
    "pickle.dump(CNBGridsearch_TFIDF_unigrams, open( \"datasets/cornell_corpus/results/CNBGridsearch_TFIDF_unigrams.pickle\", \"wb\" ))"
   ]
  },
  {
   "cell_type": "code",
   "execution_count": 13,
   "id": "ff688a34",
   "metadata": {},
   "outputs": [
    {
     "name": "stdout",
     "output_type": "stream",
     "text": [
      "Fitting 3 folds for each of 14 candidates, totalling 42 fits\n",
      "Best hyperameters {'alpha': 10, 'norm': False}\n",
      "Best test accuracy 0.5629292534622251\n"
     ]
    }
   ],
   "source": [
    "# Using TFIDF on unigrams, bigrams and trigrams\n",
    "CNB = ComplementNB()\n",
    "CNBGridsearch_TFIDF_unibitrigrams = GridSearchCV(CNB, hyperparameters, cv = KFold(3), verbose = 1)\n",
    "CNBGridsearch_TFIDF_unibitrigrams.fit(TFIDF_unibitrigrams, target)\n",
    "\n",
    "print('Best hyperameters', CNBGridsearch_TFIDF_unibitrigrams.best_params_)\n",
    "print('Best test accuracy', CNBGridsearch_TFIDF_unibitrigrams.best_score_)\n",
    "\n",
    "#Save gridsearch results\n",
    "pickle.dump(CNBGridsearch_TFIDF_unibitrigrams, open( \"datasets/cornell_corpus/results/CNBGridsearch_TFIDF_unibitrigrams.pickle\", \"wb\" ))"
   ]
  },
  {
   "cell_type": "code",
   "execution_count": 14,
   "id": "c1fbe707",
   "metadata": {},
   "outputs": [
    {
     "name": "stdout",
     "output_type": "stream",
     "text": [
      "Fitting 3 folds for each of 14 candidates, totalling 42 fits\n",
      "Best hyperameters {'alpha': 10, 'norm': True}\n",
      "Best test accuracy 0.5594536791958634\n"
     ]
    }
   ],
   "source": [
    "# Using BOW on unigrams\n",
    "CNB = ComplementNB()\n",
    "CNBGridsearch_BOW_unigrams = GridSearchCV(CNB, hyperparameters, cv = KFold(3), verbose = 1)\n",
    "CNBGridsearch_BOW_unigrams.fit(BOW_unigrams, target)\n",
    "\n",
    "print('Best hyperameters', CNBGridsearch_BOW_unigrams.best_params_)\n",
    "print('Best test accuracy', CNBGridsearch_BOW_unigrams.best_score_)\n",
    "\n",
    "#Save gridsearch results\n",
    "pickle.dump(CNBGridsearch_BOW_unigrams, open( \"datasets/cornell_corpus/results/CNBGridsearch_BOW_unigrams.pickle\", \"wb\" ))"
   ]
  },
  {
   "cell_type": "code",
   "execution_count": 15,
   "id": "838b7f68",
   "metadata": {},
   "outputs": [
    {
     "name": "stdout",
     "output_type": "stream",
     "text": [
      "Fitting 3 folds for each of 14 candidates, totalling 42 fits\n",
      "Best hyperameters {'alpha': 10, 'norm': False}\n",
      "Best test accuracy 0.5652441570924843\n"
     ]
    }
   ],
   "source": [
    "# Using BOW on unigrams, bigrams and trigrams\n",
    "CNB = ComplementNB()\n",
    "CNBGridsearch_BOW_unibitrigrams = GridSearchCV(CNB, hyperparameters, cv = KFold(3), verbose = 1)\n",
    "CNBGridsearch_BOW_unibitrigrams.fit(BOW_unibitrigrams, target)\n",
    "\n",
    "print('Best hyperameters', CNBGridsearch_BOW_unibitrigrams.best_params_)\n",
    "print('Best test accuracy', CNBGridsearch_BOW_unibitrigrams.best_score_)\n",
    "\n",
    "#Save gridsearch results\n",
    "pickle.dump(CNBGridsearch_BOW_unibitrigrams, open( \"datasets/cornell_corpus/results/CNBGridsearch_BOW_unibitrigrams.pickle\", \"wb\" ))"
   ]
  },
  {
   "cell_type": "markdown",
   "id": "affd246c",
   "metadata": {},
   "source": [
    "# Models (at character level)\n",
    "\n",
    "We concider 4 types of inputs followed by a classification model (logictic regression or naive bayes). \n",
    "\n",
    "- unigrams + TF-IDF + classification model\n",
    "- unigrams, bigrams and trigrams + TF-IDF + classification model\n",
    "- unigrams + Bag of words + classification model\n",
    "- unigrams, bigrams and trigrams + Bag of words + classification model\n",
    "\n",
    "We exclude the n-grams that appear less than 5 times. \n",
    "We use leave-one-movie-out cross-validation"
   ]
  },
  {
   "cell_type": "code",
   "execution_count": 20,
   "id": "50fd10f6",
   "metadata": {},
   "outputs": [
    {
     "data": {
      "text/plain": [
       "array([1, 1, 0, ..., 1, 0, 1])"
      ]
     },
     "execution_count": 20,
     "metadata": {},
     "output_type": "execute_result"
    }
   ],
   "source": [
    "# target variable\n",
    "target = (np.array(cornell_prepro_characters['gender']) == 'F').astype(int)\n",
    "target"
   ]
  },
  {
   "cell_type": "markdown",
   "id": "0153033b",
   "metadata": {},
   "source": [
    "## 1. Logistic regression based models\n",
    "\n",
    "### Grid search on Logistic regression models\n",
    "\n",
    "Using 5-fold"
   ]
  },
  {
   "cell_type": "code",
   "execution_count": 36,
   "id": "484ddca6",
   "metadata": {},
   "outputs": [],
   "source": [
    "# Grid of parameters to try\n",
    "C = [0.05, 0.1, 0.2, 0.5, 1, 1.5, 2]\n",
    "hyperparameters=[{'penalty':['l1'], \n",
    "                  'C': C,\n",
    "                'solver':['saga','liblinear']},\n",
    "                 {'penalty':['l2'],\n",
    "                 'C': C,\n",
    "                 'solver':['newton-cg','lbfgs','sag','liblinear','saga']},\n",
    "                {'penalty':['none'],\n",
    "                 'solver':['newton-cg','lbfgs','saga','sag']}]"
   ]
  },
  {
   "cell_type": "code",
   "execution_count": 37,
   "id": "8fa63d9d",
   "metadata": {},
   "outputs": [],
   "source": [
    "def GridSearch_logistic(X, y, file_sufix, hyperparameters, verbose = 3, kfold_split = 5, random_state = 140):\n",
    "    '''\n",
    "    It does gridsearch on a Logistic Regression Model\n",
    "\n",
    "    Inputs:\n",
    "    X: a matrix of features (it is excepted to be the matrix resulting from using TF-IDF or Bag of Words)\n",
    "    y: the target variable\n",
    "    file_sufix: sufix to add at the end of the pickle file that saves the results\n",
    "    hyperparameters: list of dictionaries or dictionary indicating the parameters to try\n",
    "    '''\n",
    "\n",
    "    # Scale the features\n",
    "    features = preprocessing.MaxAbsScaler().fit_transform(X)\n",
    "    # Classifier\n",
    "    logistic_reg = LogisticRegression(max_iter = 1000, random_state = random_state)\n",
    "    # Grid search\n",
    "    logisticGridsearch = GridSearchCV(logistic_reg, hyperparameters, cv = KFold(kfold_split), verbose = verbose)\n",
    "    logisticGridsearch.fit(features, target)\n",
    "\n",
    "    # Print and save results\n",
    "    print('Best hyperameters', logisticGridsearch.best_params_)\n",
    "    print('Best test accuracy', logisticGridsearch.best_score_)\n",
    "\n",
    "    #Save gridsearch results\n",
    "    pickle.dump(logisticGridsearch, open( \"datasets/cornell_corpus/results/logisticGridsearch_\" + file_sufix + \".pickle\", \"wb\" ))"
   ]
  },
  {
   "cell_type": "code",
   "execution_count": 38,
   "id": "f075a2c4",
   "metadata": {},
   "outputs": [
    {
     "name": "stdout",
     "output_type": "stream",
     "text": [
      "Using TF-IDF on unigrams\n",
      "Fitting 3 folds for each of 53 candidates, totalling 159 fits\n"
     ]
    },
    {
     "name": "stderr",
     "output_type": "stream",
     "text": [
      "/opt/conda/lib/python3.10/site-packages/sklearn/linear_model/_sag.py:352: ConvergenceWarning: The max_iter was reached which means the coef_ did not converge\n",
      "  warnings.warn(\n",
      "/opt/conda/lib/python3.10/site-packages/sklearn/linear_model/_sag.py:352: ConvergenceWarning: The max_iter was reached which means the coef_ did not converge\n",
      "  warnings.warn(\n",
      "/opt/conda/lib/python3.10/site-packages/sklearn/linear_model/_sag.py:352: ConvergenceWarning: The max_iter was reached which means the coef_ did not converge\n",
      "  warnings.warn(\n",
      "/opt/conda/lib/python3.10/site-packages/sklearn/linear_model/_sag.py:352: ConvergenceWarning: The max_iter was reached which means the coef_ did not converge\n",
      "  warnings.warn(\n",
      "/opt/conda/lib/python3.10/site-packages/sklearn/linear_model/_sag.py:352: ConvergenceWarning: The max_iter was reached which means the coef_ did not converge\n",
      "  warnings.warn(\n",
      "/opt/conda/lib/python3.10/site-packages/sklearn/linear_model/_sag.py:352: ConvergenceWarning: The max_iter was reached which means the coef_ did not converge\n",
      "  warnings.warn(\n",
      "/opt/conda/lib/python3.10/site-packages/sklearn/linear_model/_sag.py:352: ConvergenceWarning: The max_iter was reached which means the coef_ did not converge\n",
      "  warnings.warn(\n",
      "/opt/conda/lib/python3.10/site-packages/sklearn/linear_model/_sag.py:352: ConvergenceWarning: The max_iter was reached which means the coef_ did not converge\n",
      "  warnings.warn(\n"
     ]
    },
    {
     "name": "stdout",
     "output_type": "stream",
     "text": [
      "Best hyperameters {'C': 0.2, 'penalty': 'l2', 'solver': 'saga'}\n",
      "Best test accuracy 0.7187939431487864\n"
     ]
    }
   ],
   "source": [
    "print('Using TF-IDF on unigrams')\n",
    "GridSearch_logistic(X = TFIDF_unigrams_characters, y = target, file_sufix = \"TFIDF_unigrams_characters\", hyperparameters = hyperparameters, verbose = 1, kfold_split=3)"
   ]
  },
  {
   "cell_type": "code",
   "execution_count": 39,
   "id": "cf98f3b1",
   "metadata": {},
   "outputs": [
    {
     "name": "stdout",
     "output_type": "stream",
     "text": [
      "Using TF-IDF on unigrams, bigrams, trigrams\n",
      "Fitting 3 folds for each of 53 candidates, totalling 159 fits\n"
     ]
    },
    {
     "name": "stderr",
     "output_type": "stream",
     "text": [
      "/opt/conda/lib/python3.10/site-packages/sklearn/linear_model/_sag.py:352: ConvergenceWarning: The max_iter was reached which means the coef_ did not converge\n",
      "  warnings.warn(\n",
      "/opt/conda/lib/python3.10/site-packages/sklearn/linear_model/_sag.py:352: ConvergenceWarning: The max_iter was reached which means the coef_ did not converge\n",
      "  warnings.warn(\n",
      "/opt/conda/lib/python3.10/site-packages/sklearn/linear_model/_sag.py:352: ConvergenceWarning: The max_iter was reached which means the coef_ did not converge\n",
      "  warnings.warn(\n",
      "/opt/conda/lib/python3.10/site-packages/sklearn/linear_model/_sag.py:352: ConvergenceWarning: The max_iter was reached which means the coef_ did not converge\n",
      "  warnings.warn(\n",
      "/opt/conda/lib/python3.10/site-packages/sklearn/linear_model/_sag.py:352: ConvergenceWarning: The max_iter was reached which means the coef_ did not converge\n",
      "  warnings.warn(\n",
      "/opt/conda/lib/python3.10/site-packages/sklearn/linear_model/_sag.py:352: ConvergenceWarning: The max_iter was reached which means the coef_ did not converge\n",
      "  warnings.warn(\n",
      "/opt/conda/lib/python3.10/site-packages/sklearn/linear_model/_sag.py:352: ConvergenceWarning: The max_iter was reached which means the coef_ did not converge\n",
      "  warnings.warn(\n",
      "/opt/conda/lib/python3.10/site-packages/sklearn/linear_model/_sag.py:352: ConvergenceWarning: The max_iter was reached which means the coef_ did not converge\n",
      "  warnings.warn(\n",
      "/opt/conda/lib/python3.10/site-packages/sklearn/linear_model/_sag.py:352: ConvergenceWarning: The max_iter was reached which means the coef_ did not converge\n",
      "  warnings.warn(\n",
      "/opt/conda/lib/python3.10/site-packages/sklearn/linear_model/_sag.py:352: ConvergenceWarning: The max_iter was reached which means the coef_ did not converge\n",
      "  warnings.warn(\n",
      "/opt/conda/lib/python3.10/site-packages/sklearn/linear_model/_sag.py:352: ConvergenceWarning: The max_iter was reached which means the coef_ did not converge\n",
      "  warnings.warn(\n",
      "/opt/conda/lib/python3.10/site-packages/sklearn/linear_model/_sag.py:352: ConvergenceWarning: The max_iter was reached which means the coef_ did not converge\n",
      "  warnings.warn(\n",
      "/opt/conda/lib/python3.10/site-packages/sklearn/linear_model/_sag.py:352: ConvergenceWarning: The max_iter was reached which means the coef_ did not converge\n",
      "  warnings.warn(\n",
      "/opt/conda/lib/python3.10/site-packages/sklearn/linear_model/_sag.py:352: ConvergenceWarning: The max_iter was reached which means the coef_ did not converge\n",
      "  warnings.warn(\n",
      "/opt/conda/lib/python3.10/site-packages/sklearn/linear_model/_sag.py:352: ConvergenceWarning: The max_iter was reached which means the coef_ did not converge\n",
      "  warnings.warn(\n"
     ]
    },
    {
     "name": "stdout",
     "output_type": "stream",
     "text": [
      "Best hyperameters {'C': 0.2, 'penalty': 'l2', 'solver': 'newton-cg'}\n",
      "Best test accuracy 0.7229595590715263\n"
     ]
    }
   ],
   "source": [
    "print('Using TF-IDF on unigrams, bigrams, trigrams')\n",
    "GridSearch_logistic(X = TFIDF_unibitrigrams_characters, y = target, file_sufix = \"TFIDF_unibitrigrams_characters\", hyperparameters = hyperparameters, verbose = 1,kfold_split=3)"
   ]
  },
  {
   "cell_type": "code",
   "execution_count": 40,
   "id": "e1bc58b4",
   "metadata": {},
   "outputs": [
    {
     "name": "stdout",
     "output_type": "stream",
     "text": [
      "Using BOW on unigrams\n",
      "Fitting 3 folds for each of 53 candidates, totalling 159 fits\n"
     ]
    },
    {
     "name": "stderr",
     "output_type": "stream",
     "text": [
      "/opt/conda/lib/python3.10/site-packages/sklearn/linear_model/_sag.py:352: ConvergenceWarning: The max_iter was reached which means the coef_ did not converge\n",
      "  warnings.warn(\n",
      "/opt/conda/lib/python3.10/site-packages/sklearn/linear_model/_sag.py:352: ConvergenceWarning: The max_iter was reached which means the coef_ did not converge\n",
      "  warnings.warn(\n",
      "/opt/conda/lib/python3.10/site-packages/sklearn/linear_model/_sag.py:352: ConvergenceWarning: The max_iter was reached which means the coef_ did not converge\n",
      "  warnings.warn(\n",
      "/opt/conda/lib/python3.10/site-packages/sklearn/linear_model/_sag.py:352: ConvergenceWarning: The max_iter was reached which means the coef_ did not converge\n",
      "  warnings.warn(\n",
      "/opt/conda/lib/python3.10/site-packages/sklearn/linear_model/_sag.py:352: ConvergenceWarning: The max_iter was reached which means the coef_ did not converge\n",
      "  warnings.warn(\n",
      "/opt/conda/lib/python3.10/site-packages/sklearn/linear_model/_sag.py:352: ConvergenceWarning: The max_iter was reached which means the coef_ did not converge\n",
      "  warnings.warn(\n",
      "/opt/conda/lib/python3.10/site-packages/sklearn/linear_model/_sag.py:352: ConvergenceWarning: The max_iter was reached which means the coef_ did not converge\n",
      "  warnings.warn(\n",
      "/opt/conda/lib/python3.10/site-packages/sklearn/linear_model/_sag.py:352: ConvergenceWarning: The max_iter was reached which means the coef_ did not converge\n",
      "  warnings.warn(\n",
      "/opt/conda/lib/python3.10/site-packages/sklearn/linear_model/_sag.py:352: ConvergenceWarning: The max_iter was reached which means the coef_ did not converge\n",
      "  warnings.warn(\n",
      "/opt/conda/lib/python3.10/site-packages/sklearn/linear_model/_sag.py:352: ConvergenceWarning: The max_iter was reached which means the coef_ did not converge\n",
      "  warnings.warn(\n",
      "/opt/conda/lib/python3.10/site-packages/sklearn/linear_model/_sag.py:352: ConvergenceWarning: The max_iter was reached which means the coef_ did not converge\n",
      "  warnings.warn(\n",
      "/opt/conda/lib/python3.10/site-packages/sklearn/linear_model/_sag.py:352: ConvergenceWarning: The max_iter was reached which means the coef_ did not converge\n",
      "  warnings.warn(\n",
      "/opt/conda/lib/python3.10/site-packages/sklearn/linear_model/_sag.py:352: ConvergenceWarning: The max_iter was reached which means the coef_ did not converge\n",
      "  warnings.warn(\n",
      "/opt/conda/lib/python3.10/site-packages/sklearn/linear_model/_sag.py:352: ConvergenceWarning: The max_iter was reached which means the coef_ did not converge\n",
      "  warnings.warn(\n",
      "/opt/conda/lib/python3.10/site-packages/sklearn/linear_model/_sag.py:352: ConvergenceWarning: The max_iter was reached which means the coef_ did not converge\n",
      "  warnings.warn(\n",
      "/opt/conda/lib/python3.10/site-packages/sklearn/linear_model/_sag.py:352: ConvergenceWarning: The max_iter was reached which means the coef_ did not converge\n",
      "  warnings.warn(\n",
      "/opt/conda/lib/python3.10/site-packages/sklearn/linear_model/_sag.py:352: ConvergenceWarning: The max_iter was reached which means the coef_ did not converge\n",
      "  warnings.warn(\n",
      "/opt/conda/lib/python3.10/site-packages/sklearn/linear_model/_sag.py:352: ConvergenceWarning: The max_iter was reached which means the coef_ did not converge\n",
      "  warnings.warn(\n"
     ]
    },
    {
     "name": "stdout",
     "output_type": "stream",
     "text": [
      "Best hyperameters {'C': 0.05, 'penalty': 'l2', 'solver': 'saga'}\n",
      "Best test accuracy 0.6884334108548852\n"
     ]
    }
   ],
   "source": [
    "print('Using BOW on unigrams')\n",
    "GridSearch_logistic(X = BOW_unigrams_characters, y = target, file_sufix = \"BOW_unigrams_characters\", hyperparameters = hyperparameters, verbose = 1, kfold_split=3)"
   ]
  },
  {
   "cell_type": "code",
   "execution_count": 41,
   "id": "080735ef",
   "metadata": {},
   "outputs": [
    {
     "name": "stdout",
     "output_type": "stream",
     "text": [
      "Using BOW on unigrams, bigrams, trigrams\n",
      "Fitting 3 folds for each of 53 candidates, totalling 159 fits\n"
     ]
    },
    {
     "name": "stderr",
     "output_type": "stream",
     "text": [
      "/opt/conda/lib/python3.10/site-packages/sklearn/linear_model/_sag.py:352: ConvergenceWarning: The max_iter was reached which means the coef_ did not converge\n",
      "  warnings.warn(\n",
      "/opt/conda/lib/python3.10/site-packages/sklearn/linear_model/_sag.py:352: ConvergenceWarning: The max_iter was reached which means the coef_ did not converge\n",
      "  warnings.warn(\n",
      "/opt/conda/lib/python3.10/site-packages/sklearn/linear_model/_sag.py:352: ConvergenceWarning: The max_iter was reached which means the coef_ did not converge\n",
      "  warnings.warn(\n",
      "/opt/conda/lib/python3.10/site-packages/sklearn/linear_model/_sag.py:352: ConvergenceWarning: The max_iter was reached which means the coef_ did not converge\n",
      "  warnings.warn(\n",
      "/opt/conda/lib/python3.10/site-packages/sklearn/linear_model/_sag.py:352: ConvergenceWarning: The max_iter was reached which means the coef_ did not converge\n",
      "  warnings.warn(\n",
      "/opt/conda/lib/python3.10/site-packages/sklearn/linear_model/_sag.py:352: ConvergenceWarning: The max_iter was reached which means the coef_ did not converge\n",
      "  warnings.warn(\n",
      "/opt/conda/lib/python3.10/site-packages/sklearn/linear_model/_sag.py:352: ConvergenceWarning: The max_iter was reached which means the coef_ did not converge\n",
      "  warnings.warn(\n",
      "/opt/conda/lib/python3.10/site-packages/sklearn/linear_model/_sag.py:352: ConvergenceWarning: The max_iter was reached which means the coef_ did not converge\n",
      "  warnings.warn(\n",
      "/opt/conda/lib/python3.10/site-packages/sklearn/linear_model/_sag.py:352: ConvergenceWarning: The max_iter was reached which means the coef_ did not converge\n",
      "  warnings.warn(\n",
      "/opt/conda/lib/python3.10/site-packages/sklearn/linear_model/_sag.py:352: ConvergenceWarning: The max_iter was reached which means the coef_ did not converge\n",
      "  warnings.warn(\n",
      "/opt/conda/lib/python3.10/site-packages/sklearn/linear_model/_sag.py:352: ConvergenceWarning: The max_iter was reached which means the coef_ did not converge\n",
      "  warnings.warn(\n",
      "/opt/conda/lib/python3.10/site-packages/sklearn/linear_model/_sag.py:352: ConvergenceWarning: The max_iter was reached which means the coef_ did not converge\n",
      "  warnings.warn(\n",
      "/opt/conda/lib/python3.10/site-packages/sklearn/linear_model/_sag.py:352: ConvergenceWarning: The max_iter was reached which means the coef_ did not converge\n",
      "  warnings.warn(\n",
      "/opt/conda/lib/python3.10/site-packages/sklearn/linear_model/_sag.py:352: ConvergenceWarning: The max_iter was reached which means the coef_ did not converge\n",
      "  warnings.warn(\n",
      "/opt/conda/lib/python3.10/site-packages/sklearn/linear_model/_sag.py:352: ConvergenceWarning: The max_iter was reached which means the coef_ did not converge\n",
      "  warnings.warn(\n",
      "/opt/conda/lib/python3.10/site-packages/sklearn/linear_model/_sag.py:352: ConvergenceWarning: The max_iter was reached which means the coef_ did not converge\n",
      "  warnings.warn(\n",
      "/opt/conda/lib/python3.10/site-packages/sklearn/linear_model/_sag.py:352: ConvergenceWarning: The max_iter was reached which means the coef_ did not converge\n",
      "  warnings.warn(\n",
      "/opt/conda/lib/python3.10/site-packages/sklearn/linear_model/_sag.py:352: ConvergenceWarning: The max_iter was reached which means the coef_ did not converge\n",
      "  warnings.warn(\n",
      "/opt/conda/lib/python3.10/site-packages/sklearn/linear_model/_sag.py:352: ConvergenceWarning: The max_iter was reached which means the coef_ did not converge\n",
      "  warnings.warn(\n",
      "/opt/conda/lib/python3.10/site-packages/sklearn/linear_model/_sag.py:352: ConvergenceWarning: The max_iter was reached which means the coef_ did not converge\n",
      "  warnings.warn(\n",
      "/opt/conda/lib/python3.10/site-packages/sklearn/linear_model/_sag.py:352: ConvergenceWarning: The max_iter was reached which means the coef_ did not converge\n",
      "  warnings.warn(\n",
      "/opt/conda/lib/python3.10/site-packages/sklearn/linear_model/_sag.py:352: ConvergenceWarning: The max_iter was reached which means the coef_ did not converge\n",
      "  warnings.warn(\n",
      "/opt/conda/lib/python3.10/site-packages/sklearn/linear_model/_sag.py:352: ConvergenceWarning: The max_iter was reached which means the coef_ did not converge\n",
      "  warnings.warn(\n",
      "/opt/conda/lib/python3.10/site-packages/sklearn/linear_model/_sag.py:352: ConvergenceWarning: The max_iter was reached which means the coef_ did not converge\n",
      "  warnings.warn(\n"
     ]
    },
    {
     "name": "stdout",
     "output_type": "stream",
     "text": [
      "Best hyperameters {'penalty': 'none', 'solver': 'lbfgs'}\n",
      "Best test accuracy 0.7025725324640958\n"
     ]
    }
   ],
   "source": [
    "print('Using BOW on unigrams, bigrams, trigrams')\n",
    "GridSearch_logistic(X = BOW_unibitrigrams_characters, y = target, file_sufix = \"BOW_unibitrigrams_characters\", hyperparameters = hyperparameters, verbose = 1, kfold_split=3)"
   ]
  },
  {
   "cell_type": "markdown",
   "id": "eea6171e",
   "metadata": {},
   "source": [
    "### Models using leave-one-movie-out"
   ]
  },
  {
   "cell_type": "code",
   "execution_count": 42,
   "id": "824e633f",
   "metadata": {},
   "outputs": [],
   "source": [
    "def lr_leave_one_group_out(X, y, group, file_sufix, return_objects = False):\n",
    "    '''\n",
    "    Trains a logistic regression model using leave-one-group-out cross-validation\n",
    "\n",
    "    Inputs:\n",
    "    X: a matrix of features (it is expected to be the matrix resulting from using TF-IDF or Bag of Words)\n",
    "    y: the target variable\n",
    "    group: the variable that stablishes the group to do the leave one group out\n",
    "    file_sufix: sufix to add at the end of the pickle file loads the results from the gridsearchreturn_objects: whether to return of not the results of cross_validation and cross_val_predict\n",
    "    \n",
    "    Output: \n",
    "    A dictionary with\n",
    "    cv_scores: the train and test accuracy in each iteration.\n",
    "    cv_predict: predicted values for test samples. Of size equals to y.\n",
    "    model: parameters of the model used  \n",
    "    '''\n",
    "\n",
    "    # Load best estimator for the grid search results\n",
    "    lr_grid_results = pickle.load(open('datasets/cornell_corpus/results/logisticGridsearch_' + file_sufix + '.pickle', 'rb'))\n",
    "    lr = lr_grid_results.best_estimator_\n",
    "    # Use leave-one-group-out\n",
    "    groups = np.array(group)\n",
    "    logistic_reg = make_pipeline(preprocessing.MaxAbsScaler(), lr)\n",
    "    cv_scores = cross_validate(logistic_reg, X = X, y = y, groups = groups, cv = LeaveOneGroupOut(), scoring = ['accuracy'], return_train_score=True)\n",
    "    cv_predict = cross_val_predict(logistic_reg, X = X , y = y, groups = groups, cv = LeaveOneGroupOut())\n",
    "    # Save results\n",
    "    results = {'cv_scores': cv_scores, 'cv_predict': cv_predict, 'model': lr.get_params()}\n",
    "    pickle.dump(results, open( \"datasets/cornell_corpus/results/cv_logistic_\" + file_sufix + \".pickle\", \"wb\" ))\n",
    "    # Return results if needed\n",
    "    if return_objects:\n",
    "        return results"
   ]
  },
  {
   "cell_type": "code",
   "execution_count": 43,
   "id": "cb2cc03e",
   "metadata": {},
   "outputs": [],
   "source": [
    "# Dictionary of features \n",
    "features = {'TFIDF_unigrams_characters': TFIDF_unigrams_characters, 'TFIDF_unibitrigrams_characters': TFIDF_unibitrigrams_characters, 'BOW_unigrams_characters': BOW_unigrams_characters, 'BOW_unibitrigrams_characters': BOW_unibitrigrams_characters}\n",
    "\n",
    "# Apply Logistic regression with each set of features using leave-one-movie-out\n",
    "for i in features:\n",
    "    lr_leave_one_group_out(X = features[i], y = target, group = cornell_prepro_characters['movieID'], file_sufix = i, return_objects = False)    "
   ]
  },
  {
   "cell_type": "code",
   "execution_count": 44,
   "id": "c1b9a97c",
   "metadata": {},
   "outputs": [
    {
     "data": {
      "image/png": "[encoded data removed]",
      "text/plain": [
       "<Figure size 432x288 with 2 Axes>"
      ]
     },
     "metadata": {
      "needs_background": "light"
     },
     "output_type": "display_data"
    },
    {
     "data": {
      "image/png": "[encoded data removed]",
      "text/plain": [
       "<Figure size 432x288 with 2 Axes>"
      ]
     },
     "metadata": {
      "needs_background": "light"
     },
     "output_type": "display_data"
    },
    {
     "data": {
      "image/png": "[encoded data removed]",
      "text/plain": [
       "<Figure size 432x288 with 2 Axes>"
      ]
     },
     "metadata": {
      "needs_background": "light"
     },
     "output_type": "display_data"
    },
    {
     "data": {
      "image/png": "[encoded data removed]",
      "text/plain": [
       "<Figure size 432x288 with 2 Axes>"
      ]
     },
     "metadata": {
      "needs_background": "light"
     },
     "output_type": "display_data"
    },
    {
     "data": {
      "text/html": [
       "<div>\n",
       "<style scoped>\n",
       "    .dataframe tbody tr th:only-of-type {\n",
       "        vertical-align: middle;\n",
       "    }\n",
       "\n",
       "    .dataframe tbody tr th {\n",
       "        vertical-align: top;\n",
       "    }\n",
       "\n",
       "    .dataframe thead th {\n",
       "        text-align: right;\n",
       "    }\n",
       "</style>\n",
       "<table border=\"1\" class=\"dataframe\">\n",
       "  <thead>\n",
       "    <tr style=\"text-align: right;\">\n",
       "      <th></th>\n",
       "      <th>model</th>\n",
       "      <th>Average train accuracy</th>\n",
       "      <th>Train accuracy std</th>\n",
       "      <th>Average test accuracy</th>\n",
       "      <th>Test accuracy std</th>\n",
       "      <th>Men accuracy</th>\n",
       "      <th>Women accuracy</th>\n",
       "    </tr>\n",
       "  </thead>\n",
       "  <tbody>\n",
       "    <tr>\n",
       "      <th>TFIDF_unigrams_characters</th>\n",
       "      <td>{'C': 0.2, 'class_weight': None, 'dual': False...</td>\n",
       "      <td>0.985212</td>\n",
       "      <td>0.000609</td>\n",
       "      <td>0.695392</td>\n",
       "      <td>0.234702</td>\n",
       "      <td>0.713810</td>\n",
       "      <td>0.668885</td>\n",
       "    </tr>\n",
       "    <tr>\n",
       "      <th>TFIDF_unibitrigrams_characters</th>\n",
       "      <td>{'C': 0.2, 'class_weight': None, 'dual': False...</td>\n",
       "      <td>1.000000</td>\n",
       "      <td>0.000000</td>\n",
       "      <td>0.722406</td>\n",
       "      <td>0.225684</td>\n",
       "      <td>0.741265</td>\n",
       "      <td>0.697171</td>\n",
       "    </tr>\n",
       "    <tr>\n",
       "      <th>BOW_unigrams_characters</th>\n",
       "      <td>{'C': 0.05, 'class_weight': None, 'dual': Fals...</td>\n",
       "      <td>0.934836</td>\n",
       "      <td>0.000758</td>\n",
       "      <td>0.695503</td>\n",
       "      <td>0.243039</td>\n",
       "      <td>0.628952</td>\n",
       "      <td>0.758735</td>\n",
       "    </tr>\n",
       "    <tr>\n",
       "      <th>BOW_unibitrigrams_characters</th>\n",
       "      <td>{'C': 1.0, 'class_weight': None, 'dual': False...</td>\n",
       "      <td>1.000000</td>\n",
       "      <td>0.000000</td>\n",
       "      <td>0.690182</td>\n",
       "      <td>0.247112</td>\n",
       "      <td>0.625624</td>\n",
       "      <td>0.750416</td>\n",
       "    </tr>\n",
       "  </tbody>\n",
       "</table>\n",
       "</div>"
      ],
      "text/plain": [
       "                                                                            model  \\\n",
       "TFIDF_unigrams_characters       {'C': 0.2, 'class_weight': None, 'dual': False...   \n",
       "TFIDF_unibitrigrams_characters  {'C': 0.2, 'class_weight': None, 'dual': False...   \n",
       "BOW_unigrams_characters         {'C': 0.05, 'class_weight': None, 'dual': Fals...   \n",
       "BOW_unibitrigrams_characters    {'C': 1.0, 'class_weight': None, 'dual': False...   \n",
       "\n",
       "                                Average train accuracy  Train accuracy std  \\\n",
       "TFIDF_unigrams_characters                     0.985212            0.000609   \n",
       "TFIDF_unibitrigrams_characters                1.000000            0.000000   \n",
       "BOW_unigrams_characters                       0.934836            0.000758   \n",
       "BOW_unibitrigrams_characters                  1.000000            0.000000   \n",
       "\n",
       "                                Average test accuracy  Test accuracy std  \\\n",
       "TFIDF_unigrams_characters                    0.695392           0.234702   \n",
       "TFIDF_unibitrigrams_characters               0.722406           0.225684   \n",
       "BOW_unigrams_characters                      0.695503           0.243039   \n",
       "BOW_unibitrigrams_characters                 0.690182           0.247112   \n",
       "\n",
       "                                Men accuracy  Women accuracy  \n",
       "TFIDF_unigrams_characters           0.713810        0.668885  \n",
       "TFIDF_unibitrigrams_characters      0.741265        0.697171  \n",
       "BOW_unigrams_characters             0.628952        0.758735  \n",
       "BOW_unibitrigrams_characters        0.625624        0.750416  "
      ]
     },
     "execution_count": 44,
     "metadata": {},
     "output_type": "execute_result"
    }
   ],
   "source": [
    "# Collect accuracy measures\n",
    "\n",
    "# Empty objects \n",
    "accuracy_summary = {'model': [], 'Average train accuracy':[],'Train accuracy std':[], 'Average test accuracy':[],'Test accuracy std':[], 'Men accuracy':[], 'Women accuracy':[]}\n",
    "confusion_matrices = []\n",
    "\n",
    "# Get info\n",
    "for i in features:\n",
    "\n",
    "    results = pickle.load(open( \"datasets/cornell_corpus/results/cv_logistic_\" + i + \".pickle\", \"rb\" ))\n",
    "    cv_scores = results['cv_scores']\n",
    "    cv_predict = results['cv_predict']\n",
    "    model = results['model']\n",
    "\n",
    "    # Model\n",
    "    accuracy_summary['model'].append(model)\n",
    "\n",
    "    # Get average and standard deviation of train and test accuracy\n",
    "    accuracy_summary['Average train accuracy'].append(np.mean(cv_scores['train_accuracy']))\n",
    "    accuracy_summary['Train accuracy std'].append(np.std(cv_scores['train_accuracy']))\n",
    "    accuracy_summary['Average test accuracy'].append(np.mean(cv_scores['test_accuracy']))\n",
    "    accuracy_summary['Test accuracy std'].append(np.std(cv_scores['test_accuracy']))\n",
    "\n",
    "    # Get confusion matrix\n",
    "    cm = confusion_matrix(y_true = target, y_pred = cv_predict)\n",
    "    cmdisp = ConfusionMatrixDisplay(confusion_matrix=cm, display_labels=['Male', 'Female'])\n",
    "    confusion_matrices.append(cmdisp)\n",
    "    cmdisp.plot()\n",
    "    plt.title('Model using ' + i)\n",
    "    plt.show()\n",
    "\n",
    "    # Accuracy by class\n",
    "    accuracy_by_class = cm.diagonal()/cm.sum(axis=1)\n",
    "    accuracy_summary['Men accuracy'].append(accuracy_by_class[0])   \n",
    "    accuracy_summary['Women accuracy'].append(accuracy_by_class[1])   \n",
    "\n",
    "pd.DataFrame(accuracy_summary, index = features.keys())"
   ]
  },
  {
   "cell_type": "markdown",
   "id": "fe9c908d",
   "metadata": {},
   "source": [
    "## 2. Naive bayes based models\n",
    "\n",
    "We use Complement Naive Bayes since it's the naive bayes approach that has shown better results in text classification. [Complement Naives info here](https://scikit-learn.org/stable/modules/naive_bayes.html#complement-naive-bayes)\n",
    "\n",
    "### Grid search on Naive Bayes models\n",
    "\n",
    "Using 5-fold"
   ]
  },
  {
   "cell_type": "code",
   "execution_count": 24,
   "id": "016db346",
   "metadata": {},
   "outputs": [],
   "source": [
    "hyperparameters = {'alpha': [0.001, 0.01, 0.1, 1, 10, 100, 1000],\n",
    "                  'norm': [True, False]}"
   ]
  },
  {
   "cell_type": "code",
   "execution_count": 25,
   "id": "2c1ee265",
   "metadata": {},
   "outputs": [],
   "source": [
    "# Function for gridsearch on Naive Bayes\n",
    "\n",
    "def GridSearch_CNB(X, y, file_sufix, hyperparameters, verbose = 3, kfold_split = 5):\n",
    "    '''\n",
    "    Does gridsearch on a Complement Naive Bayes Model\n",
    "\n",
    "    Inputs:\n",
    "    X: a matrix of features (it is excepted to be the matrix resulting from using TF-IDF or Bag of Words)\n",
    "    y: the target variable\n",
    "    file_sufix: sufix to add at the end of the pickle file that saves the results\n",
    "    hyperparameters: list of dictionaries or dictionary indicating the parameters to try\n",
    "    '''\n",
    "    # Using TFIDF on unigrams\n",
    "    CNB = ComplementNB()\n",
    "    CNBGridsearch = GridSearchCV(CNB, hyperparameters, cv = KFold(kfold_split), verbose = verbose)\n",
    "    CNBGridsearch.fit(X, y)\n",
    "\n",
    "    print('Best hyperameters', CNBGridsearch.best_params_)\n",
    "    print('Best test accuracy', CNBGridsearch.best_score_)\n",
    "\n",
    "    pickle.dump(CNBGridsearch, open(\"datasets/cornell_corpus/results/CNBGridsearch_\" + file_sufix + \".pickle\", \"wb\" ))"
   ]
  },
  {
   "cell_type": "code",
   "execution_count": 26,
   "id": "bd30c06b",
   "metadata": {},
   "outputs": [
    {
     "name": "stdout",
     "output_type": "stream",
     "text": [
      "Using TF-IDF on unigrams\n",
      "Fitting 5 folds for each of 14 candidates, totalling 70 fits\n",
      "Best hyperameters {'alpha': 1, 'norm': False}\n",
      "Best test accuracy 0.6842896742896742\n"
     ]
    }
   ],
   "source": [
    "print('Using TF-IDF on unigrams')\n",
    "GridSearch_CNB(X = TFIDF_unigrams_characters, y = target, file_sufix = 'TFIDF_unigrams_characters', hyperparameters = hyperparameters, verbose = 1)"
   ]
  },
  {
   "cell_type": "code",
   "execution_count": 27,
   "id": "895e82a7",
   "metadata": {},
   "outputs": [
    {
     "name": "stdout",
     "output_type": "stream",
     "text": [
      "Using TF-IDF on unigrams, bigrams and trigrams\n",
      "Fitting 5 folds for each of 14 candidates, totalling 70 fits\n",
      "Best hyperameters {'alpha': 0.1, 'norm': True}\n",
      "Best test accuracy 0.7121500346500346\n"
     ]
    }
   ],
   "source": [
    "print('Using TF-IDF on unigrams, bigrams and trigrams')\n",
    "GridSearch_CNB(X = TFIDF_unibitrigrams_characters, y = target, file_sufix = 'TFIDF_unibitrigrams_characters', hyperparameters = hyperparameters, verbose = 1)"
   ]
  },
  {
   "cell_type": "code",
   "execution_count": 28,
   "id": "c146a628",
   "metadata": {},
   "outputs": [
    {
     "name": "stdout",
     "output_type": "stream",
     "text": [
      "Using BOW on unigrams\n",
      "Fitting 5 folds for each of 14 candidates, totalling 70 fits\n",
      "Best hyperameters {'alpha': 10, 'norm': False}\n",
      "Best test accuracy 0.6934338184338185\n"
     ]
    }
   ],
   "source": [
    "print('Using BOW on unigrams')\n",
    "GridSearch_CNB(X = BOW_unigrams_characters, y = target, file_sufix = 'BOW_unigrams_characters', hyperparameters = hyperparameters, verbose = 1)"
   ]
  },
  {
   "cell_type": "code",
   "execution_count": 29,
   "id": "74816761",
   "metadata": {},
   "outputs": [
    {
     "name": "stdout",
     "output_type": "stream",
     "text": [
      "Using BOW on unigrams, bigrams and trigrams\n",
      "Fitting 5 folds for each of 14 candidates, totalling 70 fits\n",
      "Best hyperameters {'alpha': 1, 'norm': False}\n",
      "Best test accuracy 0.7163097713097714\n"
     ]
    }
   ],
   "source": [
    "print('Using BOW on unigrams, bigrams and trigrams')\n",
    "GridSearch_CNB(X = BOW_unibitrigrams_characters, y = target, file_sufix = 'BOW_unibitrigrams_characters', hyperparameters = hyperparameters, verbose = 1)"
   ]
  },
  {
   "cell_type": "markdown",
   "id": "530e129e",
   "metadata": {},
   "source": [
    "### Models using leave-one-movie-out\n",
    "\n",
    "We use the hyperparameters recommended by the gridsearch to train our models. This time we use leave-one-movie-out cross-validation"
   ]
  },
  {
   "cell_type": "code",
   "execution_count": 30,
   "id": "edbb9c54",
   "metadata": {},
   "outputs": [],
   "source": [
    "def CNB_leave_one_group_out(X, y, group, file_sufix, return_objects = False):\n",
    "    '''\n",
    "    Trains complete naive bayes classifier using leave-one-group-out cross-validation\n",
    "\n",
    "    Inputs:\n",
    "    X: a matrix of features (it is excepted to be the matrix resulting from using TF-IDF or Bag of Words)\n",
    "    y: the target variable\n",
    "    group: the variable that stablishes the group to do the leave one group out\n",
    "    file_sufix: sufix to add at the end of the pickle file loads the results from the gridsearch \n",
    "    return_objects: whether to return of not the results of cross_validation and cross_val_predict\n",
    "    \n",
    "    Output: \n",
    "    A dictionary with\n",
    "    cv_scores: the train and test accuracy in each iteration.\n",
    "    cv_predict: predicted values for test samples. Of size equals to y.\n",
    "    model: parameters of the model used \n",
    "    '''\n",
    "\n",
    "    # Load best estimator for the grid search results\n",
    "    CNB_grid_results = pickle.load(open('datasets/cornell_corpus/results/CNBGridsearch_' + file_sufix + '.pickle', 'rb'))\n",
    "    CNB = CNB_grid_results.best_estimator_\n",
    "    # Use leave-one-group-out\n",
    "    groups = np.array(group)\n",
    "    cv_scores = cross_validate(CNB, X = X , y = y, groups = groups, cv = LeaveOneGroupOut(), scoring = ['accuracy'], return_train_score = True)\n",
    "    cv_predict = cross_val_predict(CNB, X = X , y = y, groups = groups, cv = LeaveOneGroupOut())\n",
    "    # Save results\n",
    "    results = {'cv_scores': cv_scores, 'cv_predict': cv_predict, 'model': CNB.get_params()}\n",
    "    pickle.dump(results, open( \"datasets/cornell_corpus/results/cv_CNB_\" + file_sufix + \".pickle\", \"wb\" ))\n",
    "    # Return reseults if needed\n",
    "    if return_objects:\n",
    "        return results"
   ]
  },
  {
   "cell_type": "code",
   "execution_count": 34,
   "id": "acd5e8a4",
   "metadata": {},
   "outputs": [],
   "source": [
    "# Dictionary of features \n",
    "features = {'TFIDF_unigrams_characters': TFIDF_unigrams_characters, 'TFIDF_unibitrigrams_characters': TFIDF_unibitrigrams_characters, 'BOW_unigrams_characters': BOW_unigrams_characters, 'BOW_unibitrigrams_characters': BOW_unibitrigrams_characters}\n",
    "\n",
    "# Apply Naive Bayes with each set of features using leave-one-movie-out\n",
    "for i in features:\n",
    "    CNB_leave_one_group_out(X = features[i], y = target, group = cornell_prepro_characters['movieID'], file_sufix = i, return_objects = False)    "
   ]
  },
  {
   "cell_type": "code",
   "execution_count": 35,
   "id": "efc232e6",
   "metadata": {},
   "outputs": [
    {
     "data": {
      "image/png": "[encoded data removed]",
      "text/plain": [
       "<Figure size 432x288 with 2 Axes>"
      ]
     },
     "metadata": {
      "needs_background": "light"
     },
     "output_type": "display_data"
    },
    {
     "data": {
      "image/png": "[encoded data removed]",
      "text/plain": [
       "<Figure size 432x288 with 2 Axes>"
      ]
     },
     "metadata": {
      "needs_background": "light"
     },
     "output_type": "display_data"
    },
    {
     "data": {
      "image/png": "[encoded data removed]",
      "text/plain": [
       "<Figure size 432x288 with 2 Axes>"
      ]
     },
     "metadata": {
      "needs_background": "light"
     },
     "output_type": "display_data"
    },
    {
     "data": {
      "image/png": "[encoded data removed]",
      "text/plain": [
       "<Figure size 432x288 with 2 Axes>"
      ]
     },
     "metadata": {
      "needs_background": "light"
     },
     "output_type": "display_data"
    },
    {
     "data": {
      "text/html": [
       "<div>\n",
       "<style scoped>\n",
       "    .dataframe tbody tr th:only-of-type {\n",
       "        vertical-align: middle;\n",
       "    }\n",
       "\n",
       "    .dataframe tbody tr th {\n",
       "        vertical-align: top;\n",
       "    }\n",
       "\n",
       "    .dataframe thead th {\n",
       "        text-align: right;\n",
       "    }\n",
       "</style>\n",
       "<table border=\"1\" class=\"dataframe\">\n",
       "  <thead>\n",
       "    <tr style=\"text-align: right;\">\n",
       "      <th></th>\n",
       "      <th>model</th>\n",
       "      <th>Average train accuracy</th>\n",
       "      <th>Train accuracy std</th>\n",
       "      <th>Average test accuracy</th>\n",
       "      <th>Test accuracy std</th>\n",
       "      <th>Men accuracy</th>\n",
       "      <th>Women accuracy</th>\n",
       "    </tr>\n",
       "  </thead>\n",
       "  <tbody>\n",
       "    <tr>\n",
       "      <th>TFIDF_unigrams_characters</th>\n",
       "      <td>{'alpha': 1, 'class_prior': None, 'fit_prior':...</td>\n",
       "      <td>0.909626</td>\n",
       "      <td>0.000841</td>\n",
       "      <td>0.704931</td>\n",
       "      <td>0.232073</td>\n",
       "      <td>0.683028</td>\n",
       "      <td>0.714642</td>\n",
       "    </tr>\n",
       "    <tr>\n",
       "      <th>TFIDF_unibitrigrams_characters</th>\n",
       "      <td>{'alpha': 0.1, 'class_prior': None, 'fit_prior...</td>\n",
       "      <td>0.994556</td>\n",
       "      <td>0.000165</td>\n",
       "      <td>0.720951</td>\n",
       "      <td>0.221838</td>\n",
       "      <td>0.657238</td>\n",
       "      <td>0.767887</td>\n",
       "    </tr>\n",
       "    <tr>\n",
       "      <th>BOW_unigrams_characters</th>\n",
       "      <td>{'alpha': 10, 'class_prior': None, 'fit_prior'...</td>\n",
       "      <td>0.834755</td>\n",
       "      <td>0.000826</td>\n",
       "      <td>0.701249</td>\n",
       "      <td>0.227031</td>\n",
       "      <td>0.823627</td>\n",
       "      <td>0.580699</td>\n",
       "    </tr>\n",
       "    <tr>\n",
       "      <th>BOW_unibitrigrams_characters</th>\n",
       "      <td>{'alpha': 1, 'class_prior': None, 'fit_prior':...</td>\n",
       "      <td>0.969106</td>\n",
       "      <td>0.000698</td>\n",
       "      <td>0.725125</td>\n",
       "      <td>0.225270</td>\n",
       "      <td>0.753744</td>\n",
       "      <td>0.683028</td>\n",
       "    </tr>\n",
       "  </tbody>\n",
       "</table>\n",
       "</div>"
      ],
      "text/plain": [
       "                                                                            model  \\\n",
       "TFIDF_unigrams_characters       {'alpha': 1, 'class_prior': None, 'fit_prior':...   \n",
       "TFIDF_unibitrigrams_characters  {'alpha': 0.1, 'class_prior': None, 'fit_prior...   \n",
       "BOW_unigrams_characters         {'alpha': 10, 'class_prior': None, 'fit_prior'...   \n",
       "BOW_unibitrigrams_characters    {'alpha': 1, 'class_prior': None, 'fit_prior':...   \n",
       "\n",
       "                                Average train accuracy  Train accuracy std  \\\n",
       "TFIDF_unigrams_characters                     0.909626            0.000841   \n",
       "TFIDF_unibitrigrams_characters                0.994556            0.000165   \n",
       "BOW_unigrams_characters                       0.834755            0.000826   \n",
       "BOW_unibitrigrams_characters                  0.969106            0.000698   \n",
       "\n",
       "                                Average test accuracy  Test accuracy std  \\\n",
       "TFIDF_unigrams_characters                    0.704931           0.232073   \n",
       "TFIDF_unibitrigrams_characters               0.720951           0.221838   \n",
       "BOW_unigrams_characters                      0.701249           0.227031   \n",
       "BOW_unibitrigrams_characters                 0.725125           0.225270   \n",
       "\n",
       "                                Men accuracy  Women accuracy  \n",
       "TFIDF_unigrams_characters           0.683028        0.714642  \n",
       "TFIDF_unibitrigrams_characters      0.657238        0.767887  \n",
       "BOW_unigrams_characters             0.823627        0.580699  \n",
       "BOW_unibitrigrams_characters        0.753744        0.683028  "
      ]
     },
     "execution_count": 35,
     "metadata": {},
     "output_type": "execute_result"
    }
   ],
   "source": [
    "# Collect accuracy measures\n",
    "\n",
    "# Empty objects \n",
    "accuracy_summary = {'model': [], 'Average train accuracy':[],'Train accuracy std':[], 'Average test accuracy':[],'Test accuracy std':[], 'Men accuracy':[], 'Women accuracy':[]}\n",
    "confusion_matrices = []\n",
    "\n",
    "# Get info\n",
    "for i in features:\n",
    "\n",
    "    results = pickle.load(open( \"datasets/cornell_corpus/results/cv_CNB_\" + i + \".pickle\", \"rb\" ))\n",
    "    cv_scores = results['cv_scores']\n",
    "    cv_predict = results['cv_predict']\n",
    "    model = results['model']\n",
    "\n",
    "    # Model\n",
    "    accuracy_summary['model'].append(model)\n",
    "\n",
    "    # Get average and standard deviation of train and test accuracy\n",
    "    accuracy_summary['Average train accuracy'].append(np.mean(cv_scores['train_accuracy']))\n",
    "    accuracy_summary['Train accuracy std'].append(np.std(cv_scores['train_accuracy']))\n",
    "    accuracy_summary['Average test accuracy'].append(np.mean(cv_scores['test_accuracy']))\n",
    "    accuracy_summary['Test accuracy std'].append(np.std(cv_scores['test_accuracy']))\n",
    "\n",
    "    # Get confusion matrix\n",
    "    cm = confusion_matrix(y_true = target, y_pred = cv_predict)\n",
    "    cmdisp = ConfusionMatrixDisplay(confusion_matrix=cm, display_labels=['Male', 'Female'])\n",
    "    confusion_matrices.append(cmdisp)\n",
    "    cmdisp.plot()\n",
    "    plt.title('Model using ' + i)\n",
    "    plt.show()\n",
    "\n",
    "    # Accuracy by class\n",
    "    accuracy_by_class = cm.diagonal()/cm.sum(axis=1)\n",
    "    accuracy_summary['Men accuracy'].append(accuracy_by_class[0])   \n",
    "    accuracy_summary['Women accuracy'].append(accuracy_by_class[1])   \n",
    "\n",
    "pd.DataFrame(accuracy_summary, index = features.keys())"
   ]
  }
 ],
 "metadata": {
  "kernelspec": {
   "display_name": "Python 3 (ipykernel)",
   "language": "python",
   "name": "python3"
  },
  "language_info": {
   "codemirror_mode": {
    "name": "ipython",
    "version": 3
   },
   "file_extension": ".py",
   "mimetype": "text/x-python",
   "name": "python",
   "nbconvert_exporter": "python",
   "pygments_lexer": "ipython3",
   "version": "3.10.4"
  },
  "vscode": {
   "interpreter": {
    "hash": "bcc88a5c2b6accdcaf39c87a931cb715cc1ab684beb32819a99a5a377f971b8d"
   }
  }
 },
 "nbformat": 4,
 "nbformat_minor": 5
}
